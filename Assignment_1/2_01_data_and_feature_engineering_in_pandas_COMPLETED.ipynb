{
  "nbformat": 4,
  "nbformat_minor": 0,
  "metadata": {
    "colab": {
      "provenance": [],
      "include_colab_link": true
    },
    "kernelspec": {
      "name": "python3",
      "display_name": "Python 3"
    },
    "language_info": {
      "name": "python"
    }
  },
  "cells": [
    {
      "cell_type": "markdown",
      "metadata": {
        "id": "view-in-github",
        "colab_type": "text"
      },
      "source": [
        "<a href=\"https://colab.research.google.com/github/Mustafa5609557/magabna-DataScience-GenAI-Submissions/blob/main/Assignment_1/2_01_data_and_feature_engineering_in_pandas_COMPLETED.ipynb\" target=\"_parent\"><img src=\"https://colab.research.google.com/assets/colab-badge.svg\" alt=\"Open In Colab\"/></a>"
      ]
    },
    {
      "cell_type": "markdown",
      "source": [
        "![](https://drive.google.com/uc?export=view&id=1xqQczl0FG-qtNA2_WQYuWePW9oU8irqJ)"
      ],
      "metadata": {
        "id": "ZQ1mkFp7SPa5"
      }
    },
    {
      "cell_type": "code",
      "source": [],
      "metadata": {
        "id": "zszYLPc_TZS7"
      },
      "execution_count": null,
      "outputs": []
    },
    {
      "cell_type": "markdown",
      "source": [
        "# Data and Feature Engineering\n",
        "This Notebook will introduce us to preparing our datasets for data science and AI workloads. For sturctured data, this will often utilise popular Python libraries such as Pandas, which will be the focus for this Notebook.\n",
        "\n",
        "### What is Pandas?\n",
        "As Python has grown to become a popular solution for data analysis, many new tools have been introduced to support such tasks. Pandas is arguably the most popular and widely used of these, although it does have some limitations (if working with very large datasets you may want to look at Dask and/or PySpark).\n",
        "\n",
        "First, we will import it into our session. This effectively means we have opened the library in the background, and can now use the [functions](https://github.com/MJMortensonWarwick/IB2AD0_Data_Science_GenerativeAI/blob/main/1_10_functions.ipynb) built into it. We will also import numpy - another widely used Python package for working with numerical data (the name is a portmanteau of \"numerical\" and \"python\"). By convention we import pandas as \"pd\" and numpy as \"np\". This is equivalent to giving it a variable name."
      ],
      "metadata": {
        "id": "ut4lS-AA1Z54"
      }
    },
    {
      "cell_type": "code",
      "execution_count": null,
      "metadata": {
        "id": "BcRkRi_-1VSW"
      },
      "outputs": [],
      "source": [
        "import pandas as pd\n",
        "import numpy as np"
      ]
    },
    {
      "cell_type": "markdown",
      "source": [
        "### Testing our installation\n",
        "To test everything is working we will create some fake data frame using numpy and load it into a pandas dataframe (more on these below). First we will create the random numbers:"
      ],
      "metadata": {
        "id": "2mtKjCXR1_aA"
      }
    },
    {
      "cell_type": "code",
      "source": [
        "x = np.random.rand(10,1)\n",
        "x"
      ],
      "metadata": {
        "id": "u2y2aDzR2Gyy"
      },
      "execution_count": null,
      "outputs": []
    },
    {
      "cell_type": "markdown",
      "source": [
        "The commands here have told numpy to create a set of random numbers between zero and one. The arguments we have passed, \"1\" and \"10\", tells numpy we want a 10x1 array of numbers (i.e. a table (more accurately a vector) with 10 rows and 1 column).\n",
        "\n",
        "Next we will create a pandas dataframe using \"x\":"
      ],
      "metadata": {
        "id": "rFdC3a1m2K_6"
      }
    },
    {
      "cell_type": "code",
      "source": [
        "testdf = pd.DataFrame(x)\n",
        "testdf"
      ],
      "metadata": {
        "id": "8q5z8NYZ2P-f"
      },
      "execution_count": null,
      "outputs": []
    },
    {
      "cell_type": "markdown",
      "source": [
        "We have now successfully created a pandas dataframe!"
      ],
      "metadata": {
        "id": "YxQaodH72S4O"
      }
    },
    {
      "cell_type": "markdown",
      "source": [
        "### What are Dataframes?\n",
        "Pandas has a very elegant way of managing data, very much borrowed from the statistical language R, mostly based around dataframes. You can think of dataframes a bit like an Excel table with rows, columns and common operations like sum, average and so on. We can use this on top of our previous work on lists and dictionaries (etc.) more usable and malleable.\n",
        "\n",
        "To begin with we will create a dataset - in this case a [dictionary](https://github.com/MJMortensonWarwick/IB2AD0_Data_Science_GenerativeAI/blob/main/1_05_dictionaries.ipynb).\n",
        "\n"
      ],
      "metadata": {
        "id": "LsVLtmhH2WA1"
      }
    },
    {
      "cell_type": "code",
      "source": [
        "orders = {'o10001':{'date':'2024/01/10', 'product':'Hoodie', 'quantity':'1'},\n",
        "            'o10002':{'date':'2024/01/13', 'product':'Tote bag', 'quantity':'2'},\n",
        "            'o10003':{'date':'2024/01/14', 'product':'Pencil', 'quantity':'10'},\n",
        "            'o10004':{'date':'2024/01/15', 'product':'T-shirt', 'quantity':'2'}\n",
        "}\n",
        "orders"
      ],
      "metadata": {
        "id": "BoZmysQo2p4Y"
      },
      "execution_count": null,
      "outputs": []
    },
    {
      "cell_type": "markdown",
      "source": [
        "We can convert this to a Dataframe with great ease"
      ],
      "metadata": {
        "id": "W-szoAC42tIv"
      }
    },
    {
      "cell_type": "code",
      "source": [
        "import pandas as pd\n",
        "import numpy as np\n",
        "\n",
        "orders_df = pd.DataFrame(orders)\n",
        "orders_df"
      ],
      "metadata": {
        "id": "7t8ATqP62xAl"
      },
      "execution_count": null,
      "outputs": []
    },
    {
      "cell_type": "markdown",
      "source": [
        "We can even create such outputs from more complex dictionaries, such as a dictionary which includes a nested list:"
      ],
      "metadata": {
        "id": "eeuSiBtn254W"
      }
    },
    {
      "cell_type": "code",
      "source": [
        "customers = {'Mark':{'name':'Mark Johnson', 'open_orders':3, 'orders':['o10001', 'o10002', 'o10004']},\n",
        "             'Katy':{'name':'Katy Hoad', 'open_orders':0, 'orders':[]},\n",
        "             'Angela':{'name':'Angela Lorenz', 'open_orders':1, 'orders':['o10003']},\n",
        "             'Bo':{'name':'Bo Kelestyn', 'open_orders':0, 'orders':[]}\n",
        "}\n",
        "customers"
      ],
      "metadata": {
        "id": "1k6GiP0N29XR"
      },
      "execution_count": null,
      "outputs": []
    },
    {
      "cell_type": "code",
      "source": [
        "customers_df = pd.DataFrame(customers)\n",
        "customers_df"
      ],
      "metadata": {
        "id": "xcatviQm3DJM",
        "colab": {
          "base_uri": "https://localhost:8080/",
          "height": 158
        },
        "outputId": "0ece8ee9-12b6-4655-dd2b-ec821e67def5"
      },
      "execution_count": null,
      "outputs": [
        {
          "output_type": "error",
          "ename": "NameError",
          "evalue": "name 'pd' is not defined",
          "traceback": [
            "\u001b[0;31m---------------------------------------------------------------------------\u001b[0m",
            "\u001b[0;31mNameError\u001b[0m                                 Traceback (most recent call last)",
            "\u001b[0;32m/tmp/ipython-input-1921664720.py\u001b[0m in \u001b[0;36m<cell line: 0>\u001b[0;34m()\u001b[0m\n\u001b[0;32m----> 1\u001b[0;31m \u001b[0mcustomers_df\u001b[0m \u001b[0;34m=\u001b[0m \u001b[0mpd\u001b[0m\u001b[0;34m.\u001b[0m\u001b[0mDataFrame\u001b[0m\u001b[0;34m(\u001b[0m\u001b[0mcustomers\u001b[0m\u001b[0;34m)\u001b[0m\u001b[0;34m\u001b[0m\u001b[0;34m\u001b[0m\u001b[0m\n\u001b[0m\u001b[1;32m      2\u001b[0m \u001b[0mcustomers_df\u001b[0m\u001b[0;34m\u001b[0m\u001b[0;34m\u001b[0m\u001b[0m\n",
            "\u001b[0;31mNameError\u001b[0m: name 'pd' is not defined"
          ]
        }
      ]
    },
    {
      "cell_type": "markdown",
      "source": [
        "Pandas dataframes can also be built from various other data structures and sources (including Excel files, CSVs, text files, databases and many more). For example, we can make our dataframe from a set of [lists](https://github.com/MJMortensonWarwick/IB2AD0_Data_Science_GenerativeAI/blob/main/1_04_lists.ipynb):"
      ],
      "metadata": {
        "id": "AebSOaD_3FJN"
      }
    },
    {
      "cell_type": "code",
      "source": [
        "a = [1, 2, 3, 4]\n",
        "b = [\"a\", \"b\", \"c\", \"d\"]\n",
        "c = [True, False, True, False]\n",
        "\n",
        "listdf = pd.DataFrame([a, b, c])\n",
        "listdf"
      ],
      "metadata": {
        "id": "ieLiBLDJ3H83",
        "colab": {
          "base_uri": "https://localhost:8080/",
          "height": 193
        },
        "outputId": "ba1d10d3-0366-4b9e-ba8f-069f82abf5c2"
      },
      "execution_count": null,
      "outputs": [
        {
          "output_type": "error",
          "ename": "NameError",
          "evalue": "name 'pd' is not defined",
          "traceback": [
            "\u001b[0;31m---------------------------------------------------------------------------\u001b[0m",
            "\u001b[0;31mNameError\u001b[0m                                 Traceback (most recent call last)",
            "\u001b[0;32m/tmp/ipython-input-4133787631.py\u001b[0m in \u001b[0;36m<cell line: 0>\u001b[0;34m()\u001b[0m\n\u001b[1;32m      3\u001b[0m \u001b[0mc\u001b[0m \u001b[0;34m=\u001b[0m \u001b[0;34m[\u001b[0m\u001b[0;32mTrue\u001b[0m\u001b[0;34m,\u001b[0m \u001b[0;32mFalse\u001b[0m\u001b[0;34m,\u001b[0m \u001b[0;32mTrue\u001b[0m\u001b[0;34m,\u001b[0m \u001b[0;32mFalse\u001b[0m\u001b[0;34m]\u001b[0m\u001b[0;34m\u001b[0m\u001b[0;34m\u001b[0m\u001b[0m\n\u001b[1;32m      4\u001b[0m \u001b[0;34m\u001b[0m\u001b[0m\n\u001b[0;32m----> 5\u001b[0;31m \u001b[0mlistdf\u001b[0m \u001b[0;34m=\u001b[0m \u001b[0mpd\u001b[0m\u001b[0;34m.\u001b[0m\u001b[0mDataFrame\u001b[0m\u001b[0;34m(\u001b[0m\u001b[0;34m[\u001b[0m\u001b[0ma\u001b[0m\u001b[0;34m,\u001b[0m \u001b[0mb\u001b[0m\u001b[0;34m,\u001b[0m \u001b[0mc\u001b[0m\u001b[0;34m]\u001b[0m\u001b[0;34m)\u001b[0m\u001b[0;34m\u001b[0m\u001b[0;34m\u001b[0m\u001b[0m\n\u001b[0m\u001b[1;32m      6\u001b[0m \u001b[0mlistdf\u001b[0m\u001b[0;34m\u001b[0m\u001b[0;34m\u001b[0m\u001b[0m\n",
            "\u001b[0;31mNameError\u001b[0m: name 'pd' is not defined"
          ]
        }
      ]
    },
    {
      "cell_type": "markdown",
      "source": [
        "### EXERCISE\n",
        "Try building you own dataframes from a list and/or dictionary you create. What would happen if you have an item missing from one element. E.g. if \"c\" in the above example only had three items - True, False, True - rather than four. Test it - does the output match your expectation?"
      ],
      "metadata": {
        "id": "khSIUBMt3LAA"
      }
    },
    {
      "cell_type": "code",
      "source": [
        "import pandas as pd\n",
        "\n",
        "print(\" Full football stats table\\n\")\n",
        "\n",
        "football_data1 = {\n",
        "    \"Player\": [\"Haaland\", \"Salah\", \"Foden\", \"Saka\"],\n",
        "    \"Goals\": [27, 22, 19, 16],\n",
        "    \"Assists\": [8, 10, 9, 12]\n",
        "}\n",
        "\n",
        "df1 = pd.DataFrame(football_data1)\n",
        "print(df1)\n",
        "print(\"\\n\")\n",
        "\n",
        "\n",
        "print(\" Missing one assist stat \\n\")\n",
        "\n",
        "football_data2 = {\n",
        "    \"Player\": [\"Haaland\", \"Salah\", \"Foden\", \"Saka\"],\n",
        "    \"Goals\": [27, 22, 19, 16],\n",
        "    \"Assists\": [8, 10, 9]   # missing Saka’s assist stat\n",
        "}\n",
        "\n",
        "try:\n",
        "    df2 = pd.DataFrame(football_data2)\n",
        "    print(df2)\n",
        "except ValueError as e:\n",
        "    print(\"Error:\", e)\n",
        "print(\"\\n\")\n",
        "\n",
        "\n",
        "print(\" Adding None for missing assist value \\n\")\n",
        "\n",
        "football_data3 = {\n",
        "    \"Player\": [\"Haaland\", \"Salah\", \"Foden\", \"Saka\"],\n",
        "    \"Goals\": [27, 22, 19, 16],\n",
        "    \"Assists\": [8, 10, 9, None]  # use None for missing value\n",
        "}\n",
        "\n",
        "df3 = pd.DataFrame(football_data3)\n",
        "print(df3)\n"
      ],
      "metadata": {
        "colab": {
          "base_uri": "https://localhost:8080/"
        },
        "id": "3A_HjERzTdkS",
        "outputId": "a45b8610-966e-4369-a38d-ea517ff664a7"
      },
      "execution_count": null,
      "outputs": [
        {
          "output_type": "stream",
          "name": "stdout",
          "text": [
            " Full football stats table\n",
            "\n",
            "    Player  Goals  Assists\n",
            "0  Haaland     27        8\n",
            "1    Salah     22       10\n",
            "2    Foden     19        9\n",
            "3     Saka     16       12\n",
            "\n",
            "\n",
            " Missing one assist stat \n",
            "\n",
            "Error: All arrays must be of the same length\n",
            "\n",
            "\n",
            " Adding None for missing assist value \n",
            "\n",
            "    Player  Goals  Assists\n",
            "0  Haaland     27      8.0\n",
            "1    Salah     22     10.0\n",
            "2    Foden     19      9.0\n",
            "3     Saka     16      NaN\n"
          ]
        }
      ]
    }
  ]
}